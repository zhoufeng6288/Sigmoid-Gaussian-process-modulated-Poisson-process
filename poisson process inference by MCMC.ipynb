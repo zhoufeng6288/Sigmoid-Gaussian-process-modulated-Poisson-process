{
 "cells": [
  {
   "cell_type": "code",
   "execution_count": 1,
   "metadata": {
    "collapsed": true
   },
   "outputs": [],
   "source": [
    "from scipy.stats import expon\n",
    "from scipy.stats import uniform\n",
    "from scipy.stats import norm\n",
    "from scipy.stats import multivariate_normal\n",
    "from numpy.random import multinomial\n",
    "import numpy as np\n",
    "import matplotlib.pyplot as plt"
   ]
  },
  {
   "cell_type": "code",
   "execution_count": 2,
   "metadata": {
    "collapsed": true
   },
   "outputs": [],
   "source": [
    "def expo_quad_kernel(theta0,theta1,xn,xm): # 1,0.1\n",
    "    return theta0*np.exp(-theta1/2*np.sum((xn - xm)**2))"
   ]
  },
  {
   "cell_type": "code",
   "execution_count": 3,
   "metadata": {
    "collapsed": true
   },
   "outputs": [],
   "source": [
    "def sigmoid(x): #\"Numerically-stable sigmoid function.\"\n",
    "    result=np.array([])\n",
    "    for x_i in x:\n",
    "        if x_i >= 0:\n",
    "            z = np.exp(-x_i)\n",
    "            result=np.append(result, 1 / (1 + z))\n",
    "        else:\n",
    "            z = np.exp(x_i)\n",
    "            result=np.append(result, z / (1 + z))\n",
    "    return result"
   ]
  },
  {
   "cell_type": "code",
   "execution_count": 4,
   "metadata": {
    "collapsed": true
   },
   "outputs": [],
   "source": [
    "def sample_GP(theta0,theta1,x):# mean=[0,0...0] cov=expo()\n",
    "    N=len(x)\n",
    "    cov=np.zeros((N,N))\n",
    "    for i in range(N):\n",
    "        for j in range(i+1):\n",
    "            cov[i][j]=expo_quad_kernel(theta0,theta1,x[i],x[j])\n",
    "            if i!=j:\n",
    "                cov[j][i]=cov[i][j]\n",
    "    return multivariate_normal.rvs(np.zeros(N),cov)"
   ]
  },
  {
   "cell_type": "code",
   "execution_count": 5,
   "metadata": {
    "collapsed": true
   },
   "outputs": [],
   "source": [
    "def SGP_intensity(measure_sup,theta0,theta1,x):\n",
    "    return measure_sup*sigmoid(sample_GP(theta0,theta1,x))"
   ]
  },
  {
   "cell_type": "code",
   "execution_count": 6,
   "metadata": {
    "collapsed": true
   },
   "outputs": [],
   "source": [
    "def GP_regression(xi,yi,theta0,theta1,noise_var,rang,num_points):\n",
    "    N=len(xi)\n",
    "    cov_K=np.zeros((N,N))\n",
    "    for i in range(N):\n",
    "        for j in range(i,N):\n",
    "            cov_K[i][j]=expo_quad_kernel(theta0,theta1,xi[i],xi[j])\n",
    "            cov_K[j][i]=cov_K[i][j]\n",
    "    min_eig=np.min(np.real(np.linalg.eigvals(cov_K))) # numerical float truncation error refine\n",
    "    while(min_eig<0):\n",
    "        cov_K += -10*min_eig*np.eye(N)\n",
    "        min_eig=np.min(np.real(np.linalg.eigvals(cov_K)))\n",
    "    \n",
    "    cov_K_noise=cov_K+np.eye(N)*noise_var\n",
    "    \n",
    "    x1=np.linspace(0,rang,num_points+1)      # prediction points, integer is to make it easy\n",
    "    M=len(x1)-1\n",
    "    mean=np.zeros((1,M))[0]\n",
    "    posterior_cov=np.zeros((M,M))\n",
    "    k_matrix=np.zeros((M,N))\n",
    "    k_matrix_pre=np.zeros((M,M))\n",
    "    for i in range(M):\n",
    "        for j in range(N):\n",
    "            k_matrix[i][j]=expo_quad_kernel(theta0,theta1,x1[i],xi[j])\n",
    "    k_C=np.dot(k_matrix,np.linalg.inv(cov_K_noise))\n",
    "    mean=np.dot(k_C,yi)\n",
    "    for i in range(M):\n",
    "        for j in range(i,M):\n",
    "            k_matrix_pre[i][j]=expo_quad_kernel(theta0,theta1,x1[i],x1[j])\n",
    "            k_matrix_pre[j][i]=k_matrix_pre[i][j]\n",
    "    posterior_cov=k_matrix_pre-np.dot(k_C,k_matrix.T)+np.eye(M)*noise_var\n",
    "    min_eig=np.min(np.real(np.linalg.eigvals(posterior_cov))) # numerical float truncation error refine\n",
    "    while(min_eig<0):\n",
    "        posterior_cov += -10*min_eig*np.eye(posterior_cov.shape[0])\n",
    "        min_eig=np.min(np.real(np.linalg.eigvals(posterior_cov)))\n",
    "    return x1[:num_points],mean, posterior_cov"
   ]
  },
  {
   "cell_type": "code",
   "execution_count": 31,
   "metadata": {
    "collapsed": true
   },
   "outputs": [],
   "source": [
    "def GP_regression_one_pred(xi,yi,theta0,theta1,noise_var,x_pred):\n",
    "    N=len(xi)\n",
    "    cov_K=np.zeros((N,N))\n",
    "    for i in range(N):\n",
    "        for j in range(i,N):\n",
    "            cov_K[i][j]=expo_quad_kernel(theta0,theta1,xi[i],xi[j])\n",
    "            if j!=i:\n",
    "                cov_K[j][i]=cov_K[i][j]\n",
    "\n",
    "    cov_K_noise=cov_K+np.eye(N)*noise_var\n",
    "    min_eig=np.min(np.real(np.linalg.eigvals(cov_K_noise))) # numerical float truncation error refine\n",
    "    i=0\n",
    "    while(min_eig<0):\n",
    "        cov_K_noise += -10*min_eig*np.eye(N)\n",
    "        i+=1\n",
    "        min_eig=np.min(np.real(np.linalg.eigvals(cov_K_noise)))\n",
    "        if i>10: break\n",
    "    \n",
    "    # prediction point\n",
    "    k_vec=np.array([])\n",
    "    for i in range(N):\n",
    "        k_vec=np.append(k_vec,expo_quad_kernel(theta0,theta1,x_pred,xi[i]))\n",
    "    k_C=np.dot(k_vec,np.linalg.inv(cov_K_noise))\n",
    "    mean=np.dot(k_C,yi)\n",
    "    var=theta0+noise_var-np.dot(k_C,k_vec)\n",
    "    if var<0:var=0.0001\n",
    "    std_dev=np.sqrt(var)\n",
    "    \n",
    "    return mean,std_dev"
   ]
  },
  {
   "cell_type": "code",
   "execution_count": 32,
   "metadata": {
    "collapsed": true
   },
   "outputs": [],
   "source": [
    "# def inhomo_poisson_simulation(theta0,theta1,measure_sup,T):\n",
    "#     t=0\n",
    "#     points_homo=[]\n",
    "#     points_inhomo=[]\n",
    "#     D_list=[]\n",
    "#     while(t<T):\n",
    "#         points_homo.append(t)\n",
    "#         r=expon.rvs(scale=1/measure_sup) #scale=1/lamda\n",
    "#         t+=r\n",
    "#     del points_homo[0]\n",
    "    \n",
    "#     N=len(points_homo)\n",
    "#     intensity_N=SGP_intensity(measure_sup,theta0,theta1,points_homo)\n",
    "#     for i in range(N):\n",
    "#         D=uniform.rvs(loc=0,scale=1)\n",
    "#         D_list.append(D*measure_sup)\n",
    "#         if D*measure_sup<=intensity_N[i]:\n",
    "#             points_inhomo.append(points_homo[i])\n",
    "#     return points_inhomo,points_homo,intensity_N,D_list\n",
    "def inhomo_simulation(measure,delta_t,measure_sup,T):\n",
    "    t=0\n",
    "    points_homo=[]\n",
    "    points_inhomo=[]\n",
    "    points_thinned=[]\n",
    "    while(t<T):\n",
    "        points_homo.append(t)\n",
    "        r=expon.rvs(scale=1/measure_sup) #scale=1/lamda\n",
    "        t+=r\n",
    "        if t>=T: break\n",
    "        D=uniform.rvs(loc=0,scale=1)\n",
    "        if D*measure_sup<=measure[int(t/delta_t)]:\n",
    "            points_inhomo.append(t)\n",
    "        else:\n",
    "            points_thinned.append(t)\n",
    "    if points_inhomo[-1]>T:\n",
    "        del points_inhomo[-1]\n",
    "    del points_homo[0]\n",
    "    return points_inhomo,points_thinned"
   ]
  },
  {
   "cell_type": "markdown",
   "metadata": {},
   "source": [
    "## simulation"
   ]
  },
  {
   "cell_type": "code",
   "execution_count": 105,
   "metadata": {
    "collapsed": true
   },
   "outputs": [],
   "source": [
    "measure_sup=1   #supreme"
   ]
  },
  {
   "cell_type": "code",
   "execution_count": 106,
   "metadata": {
    "collapsed": true
   },
   "outputs": [],
   "source": [
    "T=100"
   ]
  },
  {
   "cell_type": "code",
   "execution_count": 107,
   "metadata": {
    "collapsed": true
   },
   "outputs": [],
   "source": [
    "bin_num=1000"
   ]
  },
  {
   "cell_type": "code",
   "execution_count": 108,
   "metadata": {
    "collapsed": true
   },
   "outputs": [],
   "source": [
    "x=np.linspace(T/bin_num/2,T-T/bin_num/2,bin_num)"
   ]
  },
  {
   "cell_type": "code",
   "execution_count": 109,
   "metadata": {
    "collapsed": true
   },
   "outputs": [],
   "source": [
    "intensity=SGP_intensity(measure_sup,1,0.01,x) ## theta0,theta1"
   ]
  },
  {
   "cell_type": "code",
   "execution_count": 110,
   "metadata": {},
   "outputs": [
    {
     "data": {
      "image/png": "[encoded data removed]",
      "text/plain": [
       "<matplotlib.figure.Figure at 0x183c3079fd0>"
      ]
     },
     "metadata": {},
     "output_type": "display_data"
    }
   ],
   "source": [
    "plt.figure(1)                # the first figure\n",
    "plt.subplot(111)             # the first subplot in the first figure\n",
    "plt.plot(x,intensity,'r-',lw=1,alpha=0.6)\n",
    "plt.show()"
   ]
  },
  {
   "cell_type": "code",
   "execution_count": 111,
   "metadata": {
    "collapsed": true
   },
   "outputs": [],
   "source": [
    "points_inhomo,points_thinned=inhomo_simulation(intensity,T/len(intensity),measure_sup,T)"
   ]
  },
  {
   "cell_type": "code",
   "execution_count": 112,
   "metadata": {},
   "outputs": [
    {
     "data": {
      "text/plain": [
       "49"
      ]
     },
     "execution_count": 112,
     "metadata": {},
     "output_type": "execute_result"
    }
   ],
   "source": [
    "len(points_inhomo)"
   ]
  },
  {
   "cell_type": "code",
   "execution_count": 113,
   "metadata": {},
   "outputs": [
    {
     "data": {
      "text/plain": [
       "50"
      ]
     },
     "execution_count": 113,
     "metadata": {},
     "output_type": "execute_result"
    }
   ],
   "source": [
    "len(points_thinned)"
   ]
  },
  {
   "cell_type": "code",
   "execution_count": 114,
   "metadata": {},
   "outputs": [
    {
     "data": {
      "image/png": "[encoded data removed]",
      "text/plain": [
       "<matplotlib.figure.Figure at 0x183c2f9d6d8>"
      ]
     },
     "metadata": {},
     "output_type": "display_data"
    }
   ],
   "source": [
    "plt.figure(1)                # the first figure\n",
    "plt.subplot(111)             # the first subplot in the first figure\n",
    "plt.plot([0,T],[0,0],'r-',lw=1,alpha=0.6)\n",
    "plt.plot([0,T],[measure_sup,measure_sup],'r-',lw=1)\n",
    "plt.plot(x,intensity,'r-',lw=1,alpha=0.6)\n",
    "plt.plot(points_inhomo,np.zeros(len(points_inhomo)),linestyle='None', marker='|', color='g', markersize=10,label='inhomogeneous')\n",
    "plt.plot(points_thinned,1*np.ones(len(points_thinned)),linestyle='None', marker='|', color='b', markersize=10,label='thinned')\n",
    "plt.legend()\n",
    "plt.show()"
   ]
  },
  {
   "cell_type": "markdown",
   "metadata": {
    "collapsed": true
   },
   "source": [
    "## MCMC inference"
   ]
  },
  {
   "cell_type": "code",
   "execution_count": 115,
   "metadata": {
    "collapsed": true
   },
   "outputs": [],
   "source": [
    "def sampling_M(M,s_m,g_mk,measure_sup,T,theta0,theta1,noise_var):\n",
    "    temp=uniform.rvs(0,1)\n",
    "    if temp<=0.5: ## M-->M+1\n",
    "        s_prime=uniform.rvs(0,T) # propose a s'\n",
    "        mean_s_prime,std_s_prime=GP_regression_one_pred(np.array(points_inhomo+list(s_m)),g_mk,theta0,theta1,noise_var,s_prime)\n",
    "        g_s_prime=norm.rvs(mean_s_prime,std_s_prime) # propose a g(s')\n",
    "        accept_rate=T*measure_sup/(M+1)/(1+np.exp(g_s_prime))\n",
    "        temp_1=uniform.rvs(0,1)\n",
    "        if temp_1<accept_rate:\n",
    "            M=M+1\n",
    "            s_m=np.append(s_m,s_prime)\n",
    "            g_mk=np.append(g_mk,g_s_prime)\n",
    "            assert len(s_m)==M\n",
    "            assert len(g_mk)==M+K\n",
    "    else:   ## M-->M-1\n",
    "        index=np.where(multinomial(1,[1/M]*M)==1)[0][0]\n",
    "        s_prime=s_m[index]\n",
    "        g_s_prime=g_mk[K+index]\n",
    "        accept_rate=M*(1+np.exp(g_s_prime))/T/measure_sup\n",
    "        temp_1=uniform.rvs(0,1)\n",
    "        if temp_1<accept_rate:\n",
    "            M=M-1\n",
    "            s_m=np.delete(s_m,index)\n",
    "            g_mk=np.delete(g_mk,K+index)\n",
    "            assert len(s_m)==M\n",
    "            assert len(g_mk)==M+K\n",
    "    return M, s_m, g_mk"
   ]
  },
  {
   "cell_type": "code",
   "execution_count": 116,
   "metadata": {
    "collapsed": true
   },
   "outputs": [],
   "source": [
    "def sampling_s_m(M,s_m,g_mk,measure_sup,T,theta0,theta1,noise_var):\n",
    "    for i in range(M):\n",
    "        s_prime=norm.rvs(s_m[i],1)\n",
    "        while (s_prime>T or s_prime<0):\n",
    "            s_prime=norm.rvs(s_m[i],1)\n",
    "        s_m_1=np.delete(s_m,i)\n",
    "        g_mk_1=np.delete(g_mk,K+i)\n",
    "        mean_s_prime,std_s_prime=GP_regression_one_pred(np.array(points_inhomo+list(s_m_1)),g_mk_1,theta0,theta1,noise_var,s_prime)\n",
    "        g_s_prime=norm.rvs(mean_s_prime,std_s_prime) # propose a g(s')\n",
    "        accept_rate=(1+np.exp(g_mk[K+i]))/(1+np.exp(g_s_prime))\n",
    "        temp_1=uniform.rvs(0,1)\n",
    "        if temp_1<accept_rate:\n",
    "            s_m=np.insert(s_m_1,i,s_prime)\n",
    "            g_mk=np.insert(g_mk_1,K+i,g_s_prime)\n",
    "            assert len(s_m)==M\n",
    "            assert len(g_mk)==M+K\n",
    "    return M, s_m, g_mk"
   ]
  },
  {
   "cell_type": "code",
   "execution_count": 117,
   "metadata": {
    "collapsed": true
   },
   "outputs": [],
   "source": [
    "def sampling_g_mk(M,s_m,g_mk,measure_sup,T,theta0,theta1,noise_var):\n",
    "    for i in range(K): ## update y_k\n",
    "        y_prime=norm.rvs(g_mk[i],1)\n",
    "        s_k_1=np.delete(np.array(points_inhomo),i)\n",
    "        g_mk_1=np.delete(g_mk,i)\n",
    "        mean_y,std_y=GP_regression_one_pred(np.array(list(s_k_1)+list(s_m)),g_mk_1,theta0,theta1,noise_var,points_inhomo[i])\n",
    "        accept_rate=(1+np.exp(-g_mk[i]))/(1+np.exp(-y_prime))*norm.pdf(y_prime,mean_y,std_y)/norm.pdf(g_mk[i],mean_y,std_y)#*np.exp(log_norm_prime-log_norm)\n",
    "        temp_1=uniform.rvs(0,1)\n",
    "        if temp_1<accept_rate:\n",
    "            g_mk[i]=y_prime\n",
    "            assert len(s_m)==M\n",
    "            assert len(g_mk)==M+K\n",
    "    \n",
    "    for i in range(M):  ## update y_m\n",
    "        y_prime=norm.rvs(g_mk[K+i],1)\n",
    "        s_m_1=np.delete(s_m,i)\n",
    "        g_mk_1=np.delete(g_mk,K+i)\n",
    "        mean_y,std_y=GP_regression_one_pred(np.array(points_inhomo+list(s_m_1)),g_mk_1,theta0,theta1,noise_var,s_m[i])\n",
    "        accept_rate=(1+np.exp(g_mk[K+i]))/(1+np.exp(y_prime))*norm.pdf(y_prime,mean_y,std_y)/norm.pdf(g_mk[K+i],mean_y,std_y)\n",
    "        temp_1=uniform.rvs(0,1)\n",
    "        if temp_1<accept_rate:\n",
    "            g_mk[K+i]=y_prime\n",
    "            assert len(s_m)==M\n",
    "            assert len(g_mk)==M+K\n",
    "        \n",
    "    return M, s_m, g_mk"
   ]
  },
  {
   "cell_type": "markdown",
   "metadata": {},
   "source": [
    "### # of thinned points, thinned points, y are all not fixed"
   ]
  },
  {
   "cell_type": "code",
   "execution_count": 431,
   "metadata": {
    "collapsed": true
   },
   "outputs": [],
   "source": [
    "M=20    ## initial\n",
    "K=len(points_inhomo)\n",
    "s_m=np.linspace(1,T-1,M)\n",
    "g_mk=np.zeros((M+K))## 0--(K-1) observe K--last unobserve"
   ]
  },
  {
   "cell_type": "code",
   "execution_count": 62,
   "metadata": {
    "collapsed": true
   },
   "outputs": [],
   "source": [
    "theta0=1\n",
    "theta1=0.01\n",
    "noise_var=0.01"
   ]
  },
  {
   "cell_type": "code",
   "execution_count": 433,
   "metadata": {
    "collapsed": true
   },
   "outputs": [],
   "source": [
    "for i in range(500):\n",
    "    for j in range(3): ## sampling M for 5 times\n",
    "        M,s_m,g_mk=sampling_M(M,s_m,g_mk,measure_sup,T,theta0,theta1,noise_var)\n",
    "    M,s_m,g_mk=sampling_s_m(M,s_m,g_mk,measure_sup,T,theta0,theta1,noise_var) # sampling s_m\n",
    "    M,s_m,g_mk=sampling_g_mk(M,s_m,g_mk,measure_sup,T,theta0,theta1,noise_var) # sampling g_mk"
   ]
  },
  {
   "cell_type": "code",
   "execution_count": 434,
   "metadata": {
    "collapsed": true
   },
   "outputs": [],
   "source": [
    "M_list=[]\n",
    "s_m_list=[]\n",
    "g_mk_list=[]\n",
    "for i in range(100):\n",
    "    M,s_m,g_mk=sampling_M(M,s_m,g_mk,measure_sup,T,theta0,theta1,noise_var)\n",
    "    M,s_m,g_mk=sampling_s_m(M,s_m,g_mk,measure_sup,T,theta0,theta1,noise_var) # sampling s_m\n",
    "    M,s_m,g_mk=sampling_g_mk(M,s_m,g_mk,measure_sup,T,theta0,theta1,noise_var) # sampling g_mk\n",
    "    M_list.append(M)\n",
    "    s_m_list.append(s_m)\n",
    "    g_mk_list.append(g_mk)"
   ]
  },
  {
   "cell_type": "code",
   "execution_count": 461,
   "metadata": {
    "collapsed": true
   },
   "outputs": [],
   "source": [
    "sortindex=np.array([s_m_list[i] for i in np.where(np.array(M_list)==45)[0]]).argsort()"
   ]
  },
  {
   "cell_type": "code",
   "execution_count": 465,
   "metadata": {
    "collapsed": true
   },
   "outputs": [],
   "source": [
    "yyy=np.array([np.array([g_mk_list[i] for i in np.where(np.array(M_list)==45)[0]])[:,K:][i][sortindex[i]] for i in range(8)])"
   ]
  },
  {
   "cell_type": "code",
   "execution_count": 470,
   "metadata": {
    "collapsed": true
   },
   "outputs": [],
   "source": [
    "xxx=np.average(np.sort(np.array([s_m_list[i] for i in np.where(np.array(M_list)==45)[0]])),axis=0)"
   ]
  },
  {
   "cell_type": "code",
   "execution_count": 473,
   "metadata": {
    "collapsed": true
   },
   "outputs": [],
   "source": [
    "yyy=np.average(yyy,axis=0)"
   ]
  },
  {
   "cell_type": "code",
   "execution_count": 476,
   "metadata": {
    "collapsed": true
   },
   "outputs": [],
   "source": [
    "yyy_1=np.array([g_mk_list[i] for i in np.where(np.array(M_list)==45)[0]])[:,:K]"
   ]
  },
  {
   "cell_type": "code",
   "execution_count": 478,
   "metadata": {
    "collapsed": true
   },
   "outputs": [],
   "source": [
    "yyy_1=np.average(yyy_1,axis=0)"
   ]
  },
  {
   "cell_type": "code",
   "execution_count": 475,
   "metadata": {},
   "outputs": [
    {
     "data": {
      "image/png": "[encoded data removed]",
      "text/plain": [
       "<matplotlib.figure.Figure at 0x117623746d8>"
      ]
     },
     "metadata": {},
     "output_type": "display_data"
    }
   ],
   "source": [
    "plt.figure(1)                # the first figure\n",
    "plt.subplot(111)             # the first subplot in the first figure\n",
    "plt.plot(points_thinned,np.ones(len(points_thinned)),linestyle='None', marker='|', color='b', markersize=10,label='groudtruth')\n",
    "plt.plot(xxx,np.zeros(len(xxx)),linestyle='None', marker='|', color='k', markersize=10,label='learned')\n",
    "plt.legend()\n",
    "plt.show()"
   ]
  },
  {
   "cell_type": "code",
   "execution_count": 254,
   "metadata": {
    "collapsed": true
   },
   "outputs": [],
   "source": [
    "xxx,mean,cov=GP_regression(np.array(points_inhomo+list(s_m)),g_mk,theta0,theta1,noise_var,T,1000)"
   ]
  },
  {
   "cell_type": "code",
   "execution_count": 479,
   "metadata": {},
   "outputs": [
    {
     "data": {
      "image/png": "[encoded data removed]",
      "text/plain": [
       "<matplotlib.figure.Figure at 0x11762677ba8>"
      ]
     },
     "metadata": {},
     "output_type": "display_data"
    }
   ],
   "source": [
    "plt.figure(1)                # the first figure\n",
    "plt.subplot(111)             # the first subplot in the first figure\n",
    "# plt.plot(xxx,sigmoid(mean))\n",
    "plt.scatter(np.array(points_inhomo+list(xxx)),sigmoid(np.array(list(yyy_1)+list(yyy))))\n",
    "plt.plot(x,intensity,'r-',lw=1,alpha=0.6)\n",
    "plt.plot(points_inhomo,np.zeros(len(points_inhomo)),linestyle='None', marker='|', color='g', markersize=10,label='inhomogeneous')\n",
    "plt.show()"
   ]
  },
  {
   "cell_type": "markdown",
   "metadata": {},
   "source": [
    "### points_thinned are fixed"
   ]
  },
  {
   "cell_type": "code",
   "execution_count": 231,
   "metadata": {
    "collapsed": true
   },
   "outputs": [],
   "source": [
    "g_mk_list=[]\n",
    "for i in range(100):\n",
    "    M,s_m,g_mk=sampling_g_mk(len(points_thinned),points_thinned,g_mk,measure_sup,T,1,0.01,0.01)  \n",
    "    g_mk_list.append(g_mk)"
   ]
  },
  {
   "cell_type": "code",
   "execution_count": 235,
   "metadata": {},
   "outputs": [
    {
     "data": {
      "image/png": "[encoded data removed]",
      "text/plain": [
       "<matplotlib.figure.Figure at 0x11762414860>"
      ]
     },
     "metadata": {},
     "output_type": "display_data"
    }
   ],
   "source": [
    "plt.figure(1)                # the first figure\n",
    "plt.subplot(111)             # the first subplot in the first figure\n",
    "plt.scatter(points_inhomo+points_thinned,sigmoid(np.average(np.array(g_mk_list),axis=0)))\n",
    "plt.plot(x,intensity,'r-',lw=1,alpha=0.6)\n",
    "plt.plot(points_inhomo,np.zeros(len(points_inhomo)),linestyle='None', marker='|', color='g', markersize=10,label='inhomogeneous')\n",
    "plt.show()"
   ]
  },
  {
   "cell_type": "markdown",
   "metadata": {},
   "source": [
    "### # of thinned points is fixed"
   ]
  },
  {
   "cell_type": "code",
   "execution_count": 141,
   "metadata": {
    "collapsed": true
   },
   "outputs": [],
   "source": [
    "M=len(points_thinned)\n",
    "K=len(points_inhomo)\n",
    "s_m=np.linspace(0.1,T-0.1,M)\n",
    "g_mk=np.zeros((M+K))## 0--(K-1) observe K--last unobserve"
   ]
  },
  {
   "cell_type": "code",
   "execution_count": 142,
   "metadata": {
    "collapsed": true
   },
   "outputs": [],
   "source": [
    "theta0=1\n",
    "theta1=0.01\n",
    "noise_var=0.01"
   ]
  },
  {
   "cell_type": "code",
   "execution_count": 143,
   "metadata": {},
   "outputs": [
    {
     "name": "stdout",
     "output_type": "stream",
     "text": [
      "Wall time: 5.99 s\n"
     ]
    }
   ],
   "source": [
    "%%time\n",
    "for i in range(1):\n",
    "    M,s_m,g_mk=sampling_s_m(M,s_m,g_mk,measure_sup,T,theta0,theta1,noise_var) # sampling s_m\n",
    "    M,s_m,g_mk=sampling_g_mk(M,s_m,g_mk,measure_sup,T,theta0,theta1,noise_var) # sampling g_mk"
   ]
  },
  {
   "cell_type": "code",
   "execution_count": 144,
   "metadata": {},
   "outputs": [],
   "source": [
    "for i in range(500):\n",
    "    M,s_m,g_mk=sampling_s_m(M,s_m,g_mk,measure_sup,T,theta0,theta1,noise_var) # sampling s_m\n",
    "    M,s_m,g_mk=sampling_g_mk(M,s_m,g_mk,measure_sup,T,theta0,theta1,noise_var) # sampling g_mk"
   ]
  },
  {
   "cell_type": "code",
   "execution_count": 145,
   "metadata": {
    "collapsed": true
   },
   "outputs": [],
   "source": [
    "s_m_list=[]\n",
    "g_mk_list=[]\n",
    "for i in range(100):\n",
    "    M,s_m,g_mk=sampling_s_m(M,s_m,g_mk,measure_sup,T,theta0,theta1,noise_var) # sampling s_m\n",
    "    M,s_m,g_mk=sampling_g_mk(M,s_m,g_mk,measure_sup,T,theta0,theta1,noise_var) # sampling g_mk\n",
    "    s_m_list.append(s_m)\n",
    "    g_mk_list.append(g_mk)"
   ]
  },
  {
   "cell_type": "code",
   "execution_count": 146,
   "metadata": {},
   "outputs": [
    {
     "data": {
      "text/plain": [
       "100"
      ]
     },
     "execution_count": 146,
     "metadata": {},
     "output_type": "execute_result"
    }
   ],
   "source": [
    "len(g_mk_list)"
   ]
  },
  {
   "cell_type": "code",
   "execution_count": 147,
   "metadata": {
    "collapsed": true
   },
   "outputs": [],
   "source": [
    "def s_m_g_m_sort_average(s_m_list,g_mk_list):\n",
    "    N=len(s_m_list)\n",
    "    y=np.array(g_mk_list)[:,K:]\n",
    "    x=np.array(s_m_list)\n",
    "    y=np.array([y[i][x.argsort()[i]] for i in range(N)])\n",
    "    x=np.sort(x)\n",
    "    x=np.average(x,axis=0)\n",
    "    y=np.average(y,axis=0)\n",
    "    y_k=np.average(np.array(g_mk_list)[:,:K],axis=0)\n",
    "    return x,y,y_k"
   ]
  },
  {
   "cell_type": "code",
   "execution_count": 148,
   "metadata": {
    "collapsed": true
   },
   "outputs": [],
   "source": [
    "s_m_sort_ave,g_m_sort_ave,g_k_ave=s_m_g_m_sort_average(s_m_list,g_mk_list)"
   ]
  },
  {
   "cell_type": "code",
   "execution_count": 149,
   "metadata": {},
   "outputs": [
    {
     "data": {
      "image/png": "[encoded data removed]",
      "text/plain": [
       "<matplotlib.figure.Figure at 0x183c2fd0f60>"
      ]
     },
     "metadata": {},
     "output_type": "display_data"
    }
   ],
   "source": [
    "plt.figure(1)                # the first figure\n",
    "plt.subplot(111)             # the first subplot in the first figure\n",
    "plt.plot(points_thinned,np.ones(M),linestyle='None', marker='|', color='b', markersize=10,label='groudtruth')\n",
    "plt.plot(s_m_sort_ave,np.zeros(M),linestyle='None', marker='|', color='k', markersize=10,label='learned')\n",
    "plt.legend()\n",
    "plt.show()"
   ]
  },
  {
   "cell_type": "code",
   "execution_count": 150,
   "metadata": {},
   "outputs": [
    {
     "data": {
      "image/png": "[encoded data removed]",
      "text/plain": [
       "<matplotlib.figure.Figure at 0x183c34324e0>"
      ]
     },
     "metadata": {},
     "output_type": "display_data"
    }
   ],
   "source": [
    "plt.figure(1)\n",
    "plt.subplot(111)\n",
    "plt.scatter(points_inhomo+list(s_m_sort_ave),measure_sup*sigmoid(np.array(list(g_k_ave)+list(g_m_sort_ave))))\n",
    "plt.plot(x,intensity,'r-',lw=1,alpha=0.6)\n",
    "plt.plot(points_inhomo,np.zeros(len(points_inhomo)),linestyle='None', marker='|', color='g', markersize=10)\n",
    "plt.show()"
   ]
  },
  {
   "cell_type": "code",
   "execution_count": null,
   "metadata": {
    "collapsed": true
   },
   "outputs": [],
   "source": []
  }
 ],
 "metadata": {
  "kernelspec": {
   "display_name": "Python 3",
   "language": "python",
   "name": "python3"
  },
  "language_info": {
   "codemirror_mode": {
    "name": "ipython",
    "version": 3
   },
   "file_extension": ".py",
   "mimetype": "text/x-python",
   "name": "python",
   "nbconvert_exporter": "python",
   "pygments_lexer": "ipython3",
   "version": "3.6.6"
  }
 },
 "nbformat": 4,
 "nbformat_minor": 2
}
